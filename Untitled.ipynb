{
 "cells": [
  {
   "cell_type": "code",
   "execution_count": 1,
   "id": "54c2e2f7",
   "metadata": {},
   "outputs": [],
   "source": [
    "import numpy as np\n",
    "import pandas as pd\n",
    "import torch\n",
    "import torch.nn as nn\n",
    "import torch.functional as F\n",
    "\n",
    "from pysmiles import read_smiles\n",
    "import networkx as nx\n",
    "import warnings\n",
    "warnings.filterwarnings(\"ignore\")"
   ]
  },
  {
   "cell_type": "code",
   "execution_count": 2,
   "id": "52776576",
   "metadata": {},
   "outputs": [],
   "source": [
    "!pip install rdkit -q"
   ]
  },
  {
   "cell_type": "code",
   "execution_count": 5,
   "id": "bbc5957d",
   "metadata": {},
   "outputs": [],
   "source": [
    "!pip install networkx -q"
   ]
  },
  {
   "cell_type": "code",
   "execution_count": 6,
   "id": "6e9aaed6",
   "metadata": {},
   "outputs": [
    {
     "name": "stdout",
     "output_type": "stream",
     "text": [
      "[(0, 'C'), (1, 'C'), (2, 'C'), (3, 'C'), (4, 'C'), (5, 'C'), (6, 'C'), (7, 'C'), (8, 'C'), (9, 'C'), (10, 'C'), (11, 'C'), (12, 'C'), (13, 'C'), (14, 'C'), (15, 'C'), (16, 'C'), (17, 'C'), (18, 'C'), (19, 'C'), (20, 'C'), (21, 'C'), (22, 'C'), (23, 'C'), (24, 'C'), (25, 'C'), (26, 'C'), (27, 'C'), (28, 'C'), (29, 'C'), (30, 'C'), (31, 'C'), (32, 'C'), (33, 'C'), (34, 'C'), (35, 'C'), (36, 'C'), (37, 'C'), (38, 'C'), (39, 'C'), (40, 'C'), (41, 'C'), (42, 'C'), (43, 'C'), (44, 'C'), (45, 'C'), (46, 'C'), (47, 'C'), (48, 'C'), (49, 'C'), (50, 'C'), (51, 'C'), (52, 'C'), (53, 'C'), (54, 'C'), (55, 'C'), (56, 'C'), (57, 'C'), (58, 'C'), (59, 'C')]\n",
      "[[0. 1. 0. ... 0. 0. 0.]\n",
      " [1. 0. 1. ... 0. 0. 0.]\n",
      " [0. 1. 0. ... 0. 0. 0.]\n",
      " ...\n",
      " [0. 0. 0. ... 0. 0. 0.]\n",
      " [0. 0. 0. ... 0. 0. 1.]\n",
      " [0. 0. 0. ... 0. 1. 0.]]\n"
     ]
    }
   ],
   "source": [
    "smiles = 'C12=C3C4=C5C6=C1C7=C8C9=C1C%10=C%11C(=C29)C3=C2C3=C4C4=C5C5=C9C6=C7C6=C7C8=C1C1=C8C%10=C%10C%11=C2C2=C3C3=C4C4=C5C5=C%11C%12=C(C6=C95)C7=C1C1=C%12C5=C%11C4=C3C3=C5C(=C81)C%10=C23'\n",
    "mol = read_smiles(smiles)\n",
    "    \n",
    "# adjacency matrix\n",
    "print(nx.to_numpy_matrix(mol))"
   ]
  },
  {
   "cell_type": "code",
   "execution_count": 7,
   "id": "3a520388",
   "metadata": {},
   "outputs": [
    {
     "data": {
      "text/html": [
       "<div>\n",
       "<style scoped>\n",
       "    .dataframe tbody tr th:only-of-type {\n",
       "        vertical-align: middle;\n",
       "    }\n",
       "\n",
       "    .dataframe tbody tr th {\n",
       "        vertical-align: top;\n",
       "    }\n",
       "\n",
       "    .dataframe thead th {\n",
       "        text-align: right;\n",
       "    }\n",
       "</style>\n",
       "<table border=\"1\" class=\"dataframe\">\n",
       "  <thead>\n",
       "    <tr style=\"text-align: right;\">\n",
       "      <th></th>\n",
       "      <th>TAID</th>\n",
       "      <th>Name</th>\n",
       "      <th>IUPAC Name</th>\n",
       "      <th>PubChem CID</th>\n",
       "      <th>Canonical SMILES</th>\n",
       "      <th>InChIKey</th>\n",
       "      <th>Toxicity Value</th>\n",
       "    </tr>\n",
       "  </thead>\n",
       "  <tbody>\n",
       "    <tr>\n",
       "      <th>0</th>\n",
       "      <td>TOX-9</td>\n",
       "      <td>ethinamate</td>\n",
       "      <td>(1-ethynylcyclohexyl) carbamate</td>\n",
       "      <td>3284.0</td>\n",
       "      <td>C#CC1(OC(N)=O)CCCCC1</td>\n",
       "      <td>GXRZIMHKGDIBEW-UHFFFAOYSA-N</td>\n",
       "      <td>0</td>\n",
       "    </tr>\n",
       "    <tr>\n",
       "      <th>1</th>\n",
       "      <td>TOX-21</td>\n",
       "      <td>D-Sorbitol</td>\n",
       "      <td>(2R,3R,4R,5S)-hexane-1,2,3,4,5,6-hexol</td>\n",
       "      <td>5780.0</td>\n",
       "      <td>OC[C@H](O)[C@@H](O)[C@H](O)[C@H](O)CO</td>\n",
       "      <td>FBPFZTCFMRRESA-JGWLITMVSA-N</td>\n",
       "      <td>0</td>\n",
       "    </tr>\n",
       "    <tr>\n",
       "      <th>2</th>\n",
       "      <td>TOX-23</td>\n",
       "      <td>Perflubron</td>\n",
       "      <td>1-bromo-1,1,2,2,3,3,4,4,5,5,6,6,7,7,8,8,8-hept...</td>\n",
       "      <td>9873.0</td>\n",
       "      <td>FC(F)(F)C(F)(F)C(F)(F)C(F)(F)C(F)(F)C(F)(F)C(F...</td>\n",
       "      <td>WTWWXOGTJWMJHI-UHFFFAOYSA-N</td>\n",
       "      <td>1</td>\n",
       "    </tr>\n",
       "    <tr>\n",
       "      <th>3</th>\n",
       "      <td>TOX-27</td>\n",
       "      <td>NaN</td>\n",
       "      <td>NaN</td>\n",
       "      <td>NaN</td>\n",
       "      <td>NaN</td>\n",
       "      <td>NaN</td>\n",
       "      <td>0</td>\n",
       "    </tr>\n",
       "    <tr>\n",
       "      <th>4</th>\n",
       "      <td>TOX-28</td>\n",
       "      <td>nitroglycerin</td>\n",
       "      <td>1,3-dinitrooxypropan-2-yl nitrate</td>\n",
       "      <td>4510.0</td>\n",
       "      <td>O=[N+]([O-])OCC(CO[N+](=O)[O-])O[N+](=O)[O-]</td>\n",
       "      <td>SNIOPGDIGTZGOP-UHFFFAOYSA-N</td>\n",
       "      <td>1</td>\n",
       "    </tr>\n",
       "    <tr>\n",
       "      <th>...</th>\n",
       "      <td>...</td>\n",
       "      <td>...</td>\n",
       "      <td>...</td>\n",
       "      <td>...</td>\n",
       "      <td>...</td>\n",
       "      <td>...</td>\n",
       "      <td>...</td>\n",
       "    </tr>\n",
       "    <tr>\n",
       "      <th>2884</th>\n",
       "      <td>TOX-110019</td>\n",
       "      <td>NaN</td>\n",
       "      <td>NaN</td>\n",
       "      <td>NaN</td>\n",
       "      <td>COc1cc(OC)c2oc3cc(OC)c(OC)c(OC4OC(OC5OCC(O)C(O...</td>\n",
       "      <td>NaN</td>\n",
       "      <td>0</td>\n",
       "    </tr>\n",
       "    <tr>\n",
       "      <th>2885</th>\n",
       "      <td>TOX-110020</td>\n",
       "      <td>NaN</td>\n",
       "      <td>NaN</td>\n",
       "      <td>NaN</td>\n",
       "      <td>CC1(C)CCC2(C(=O)O)CCC3(C)C(=CCC4C5(C)CC(O)C(OC...</td>\n",
       "      <td>NaN</td>\n",
       "      <td>0</td>\n",
       "    </tr>\n",
       "    <tr>\n",
       "      <th>2886</th>\n",
       "      <td>TOX-113361</td>\n",
       "      <td>GUANETHIDINE</td>\n",
       "      <td>2-[2-(azocan-1-yl)ethyl]guanidine</td>\n",
       "      <td>3518.0</td>\n",
       "      <td>N=C(N)NCCN1CCCCCCC1</td>\n",
       "      <td>ACGDKVXYNVEAGU-UHFFFAOYSA-N</td>\n",
       "      <td>0</td>\n",
       "    </tr>\n",
       "    <tr>\n",
       "      <th>2887</th>\n",
       "      <td>TOX-113363</td>\n",
       "      <td>inositol</td>\n",
       "      <td>cyclohexane-1,2,3,4,5,6-hexol</td>\n",
       "      <td>892.0</td>\n",
       "      <td>OC1C(O)C(O)C(O)C(O)C1O</td>\n",
       "      <td>CDAISMWEOUEBRE-UHFFFAOYSA-N</td>\n",
       "      <td>0</td>\n",
       "    </tr>\n",
       "    <tr>\n",
       "      <th>2888</th>\n",
       "      <td>TOX-113368</td>\n",
       "      <td>AMILORIDE</td>\n",
       "      <td>3,5-diamino-6-chloro-N-(diaminomethylidene)pyr...</td>\n",
       "      <td>16231.0</td>\n",
       "      <td>N=C(N)NC(=O)c1nc(Cl)c(N)nc1N</td>\n",
       "      <td>XSDQTOBWRPYKKA-UHFFFAOYSA-N</td>\n",
       "      <td>1</td>\n",
       "    </tr>\n",
       "  </tbody>\n",
       "</table>\n",
       "<p>2889 rows × 7 columns</p>\n",
       "</div>"
      ],
      "text/plain": [
       "            TAID           Name  \\\n",
       "0          TOX-9     ethinamate   \n",
       "1         TOX-21     D-Sorbitol   \n",
       "2         TOX-23     Perflubron   \n",
       "3         TOX-27            NaN   \n",
       "4         TOX-28  nitroglycerin   \n",
       "...          ...            ...   \n",
       "2884  TOX-110019            NaN   \n",
       "2885  TOX-110020            NaN   \n",
       "2886  TOX-113361   GUANETHIDINE   \n",
       "2887  TOX-113363       inositol   \n",
       "2888  TOX-113368      AMILORIDE   \n",
       "\n",
       "                                             IUPAC Name  PubChem CID  \\\n",
       "0                       (1-ethynylcyclohexyl) carbamate       3284.0   \n",
       "1                (2R,3R,4R,5S)-hexane-1,2,3,4,5,6-hexol       5780.0   \n",
       "2     1-bromo-1,1,2,2,3,3,4,4,5,5,6,6,7,7,8,8,8-hept...       9873.0   \n",
       "3                                                   NaN          NaN   \n",
       "4                     1,3-dinitrooxypropan-2-yl nitrate       4510.0   \n",
       "...                                                 ...          ...   \n",
       "2884                                                NaN          NaN   \n",
       "2885                                                NaN          NaN   \n",
       "2886                  2-[2-(azocan-1-yl)ethyl]guanidine       3518.0   \n",
       "2887                     cyclohexane-1,2,3,4,5,6-hexol         892.0   \n",
       "2888  3,5-diamino-6-chloro-N-(diaminomethylidene)pyr...      16231.0   \n",
       "\n",
       "                                       Canonical SMILES  \\\n",
       "0                                  C#CC1(OC(N)=O)CCCCC1   \n",
       "1                 OC[C@H](O)[C@@H](O)[C@H](O)[C@H](O)CO   \n",
       "2     FC(F)(F)C(F)(F)C(F)(F)C(F)(F)C(F)(F)C(F)(F)C(F...   \n",
       "3                                                   NaN   \n",
       "4          O=[N+]([O-])OCC(CO[N+](=O)[O-])O[N+](=O)[O-]   \n",
       "...                                                 ...   \n",
       "2884  COc1cc(OC)c2oc3cc(OC)c(OC)c(OC4OC(OC5OCC(O)C(O...   \n",
       "2885  CC1(C)CCC2(C(=O)O)CCC3(C)C(=CCC4C5(C)CC(O)C(OC...   \n",
       "2886                                N=C(N)NCCN1CCCCCCC1   \n",
       "2887                             OC1C(O)C(O)C(O)C(O)C1O   \n",
       "2888                       N=C(N)NC(=O)c1nc(Cl)c(N)nc1N   \n",
       "\n",
       "                          InChIKey  Toxicity Value  \n",
       "0      GXRZIMHKGDIBEW-UHFFFAOYSA-N               0  \n",
       "1      FBPFZTCFMRRESA-JGWLITMVSA-N               0  \n",
       "2      WTWWXOGTJWMJHI-UHFFFAOYSA-N               1  \n",
       "3                              NaN               0  \n",
       "4      SNIOPGDIGTZGOP-UHFFFAOYSA-N               1  \n",
       "...                            ...             ...  \n",
       "2884                           NaN               0  \n",
       "2885                           NaN               0  \n",
       "2886   ACGDKVXYNVEAGU-UHFFFAOYSA-N               0  \n",
       "2887  CDAISMWEOUEBRE-UHFFFAOYSA-N                0  \n",
       "2888   XSDQTOBWRPYKKA-UHFFFAOYSA-N               1  \n",
       "\n",
       "[2889 rows x 7 columns]"
      ]
     },
     "execution_count": 7,
     "metadata": {},
     "output_type": "execute_result"
    }
   ],
   "source": [
    "data = pd.read_csv('Hepatotoxicity_Hepatotoxicity.csv')\n",
    "data"
   ]
  },
  {
   "cell_type": "code",
   "execution_count": 10,
   "id": "5e80a319",
   "metadata": {},
   "outputs": [
    {
     "data": {
      "text/html": [
       "<div>\n",
       "<style scoped>\n",
       "    .dataframe tbody tr th:only-of-type {\n",
       "        vertical-align: middle;\n",
       "    }\n",
       "\n",
       "    .dataframe tbody tr th {\n",
       "        vertical-align: top;\n",
       "    }\n",
       "\n",
       "    .dataframe thead th {\n",
       "        text-align: right;\n",
       "    }\n",
       "</style>\n",
       "<table border=\"1\" class=\"dataframe\">\n",
       "  <thead>\n",
       "    <tr style=\"text-align: right;\">\n",
       "      <th></th>\n",
       "      <th>Canonical SMILES</th>\n",
       "      <th>Toxicity Value</th>\n",
       "    </tr>\n",
       "  </thead>\n",
       "  <tbody>\n",
       "    <tr>\n",
       "      <th>0</th>\n",
       "      <td>C#CC1(OC(N)=O)CCCCC1</td>\n",
       "      <td>0</td>\n",
       "    </tr>\n",
       "    <tr>\n",
       "      <th>1</th>\n",
       "      <td>OC[C@H](O)[C@@H](O)[C@H](O)[C@H](O)CO</td>\n",
       "      <td>0</td>\n",
       "    </tr>\n",
       "    <tr>\n",
       "      <th>2</th>\n",
       "      <td>FC(F)(F)C(F)(F)C(F)(F)C(F)(F)C(F)(F)C(F)(F)C(F...</td>\n",
       "      <td>1</td>\n",
       "    </tr>\n",
       "    <tr>\n",
       "      <th>4</th>\n",
       "      <td>O=[N+]([O-])OCC(CO[N+](=O)[O-])O[N+](=O)[O-]</td>\n",
       "      <td>1</td>\n",
       "    </tr>\n",
       "    <tr>\n",
       "      <th>5</th>\n",
       "      <td>FC(F)(F)C(F)(F)C(F)(F)F</td>\n",
       "      <td>0</td>\n",
       "    </tr>\n",
       "    <tr>\n",
       "      <th>...</th>\n",
       "      <td>...</td>\n",
       "      <td>...</td>\n",
       "    </tr>\n",
       "    <tr>\n",
       "      <th>2884</th>\n",
       "      <td>COc1cc(OC)c2oc3cc(OC)c(OC)c(OC4OC(OC5OCC(O)C(O...</td>\n",
       "      <td>0</td>\n",
       "    </tr>\n",
       "    <tr>\n",
       "      <th>2885</th>\n",
       "      <td>CC1(C)CCC2(C(=O)O)CCC3(C)C(=CCC4C5(C)CC(O)C(OC...</td>\n",
       "      <td>0</td>\n",
       "    </tr>\n",
       "    <tr>\n",
       "      <th>2886</th>\n",
       "      <td>N=C(N)NCCN1CCCCCCC1</td>\n",
       "      <td>0</td>\n",
       "    </tr>\n",
       "    <tr>\n",
       "      <th>2887</th>\n",
       "      <td>OC1C(O)C(O)C(O)C(O)C1O</td>\n",
       "      <td>0</td>\n",
       "    </tr>\n",
       "    <tr>\n",
       "      <th>2888</th>\n",
       "      <td>N=C(N)NC(=O)c1nc(Cl)c(N)nc1N</td>\n",
       "      <td>1</td>\n",
       "    </tr>\n",
       "  </tbody>\n",
       "</table>\n",
       "<p>2847 rows × 2 columns</p>\n",
       "</div>"
      ],
      "text/plain": [
       "                                       Canonical SMILES  Toxicity Value\n",
       "0                                  C#CC1(OC(N)=O)CCCCC1               0\n",
       "1                 OC[C@H](O)[C@@H](O)[C@H](O)[C@H](O)CO               0\n",
       "2     FC(F)(F)C(F)(F)C(F)(F)C(F)(F)C(F)(F)C(F)(F)C(F...               1\n",
       "4          O=[N+]([O-])OCC(CO[N+](=O)[O-])O[N+](=O)[O-]               1\n",
       "5                               FC(F)(F)C(F)(F)C(F)(F)F               0\n",
       "...                                                 ...             ...\n",
       "2884  COc1cc(OC)c2oc3cc(OC)c(OC)c(OC4OC(OC5OCC(O)C(O...               0\n",
       "2885  CC1(C)CCC2(C(=O)O)CCC3(C)C(=CCC4C5(C)CC(O)C(OC...               0\n",
       "2886                                N=C(N)NCCN1CCCCCCC1               0\n",
       "2887                             OC1C(O)C(O)C(O)C(O)C1O               0\n",
       "2888                       N=C(N)NC(=O)c1nc(Cl)c(N)nc1N               1\n",
       "\n",
       "[2847 rows x 2 columns]"
      ]
     },
     "execution_count": 10,
     "metadata": {},
     "output_type": "execute_result"
    }
   ],
   "source": [
    "data = data[['Canonical SMILES', 'Toxicity Value']].dropna()\n",
    "data"
   ]
  },
  {
   "cell_type": "code",
   "execution_count": 18,
   "id": "7a132d5f",
   "metadata": {},
   "outputs": [
    {
     "name": "stdout",
     "output_type": "stream",
     "text": [
      "(0, 0)\n"
     ]
    }
   ],
   "source": [
    "smiles = data['Canonical SMILES']\n",
    "mols = read_smiles(smiles)\n",
    "    \n",
    "# adjacency matrix\n",
    "print(nx.to_numpy_matrix(mols).shape)"
   ]
  },
  {
   "cell_type": "code",
   "execution_count": 19,
   "id": "ff255c52",
   "metadata": {},
   "outputs": [
    {
     "data": {
      "text/plain": [
       "matrix([], shape=(0, 0), dtype=float64)"
      ]
     },
     "execution_count": 19,
     "metadata": {},
     "output_type": "execute_result"
    }
   ],
   "source": [
    "nx.to_numpy_matrix(mols)"
   ]
  },
  {
   "cell_type": "code",
   "execution_count": 20,
   "id": "af03703d",
   "metadata": {},
   "outputs": [
    {
     "name": "stdout",
     "output_type": "stream",
     "text": [
      "[5#F7rB/sLK)cna4]1PC-93=l6+OSNo.\\i2(HI8A@\n",
      "328\n"
     ]
    }
   ],
   "source": [
    "from SmilesEnumerator import SmilesEnumerator\n",
    "sme = SmilesEnumerator()\n",
    "\n",
    "sme.fit(smiles)\n",
    "print(sme.charset)\n",
    "print(sme.pad)"
   ]
  },
  {
   "cell_type": "code",
   "execution_count": 22,
   "id": "6dfa7711",
   "metadata": {},
   "outputs": [
    {
     "data": {
      "text/plain": [
       "<matplotlib.image.AxesImage at 0x1cdd433bca0>"
      ]
     },
     "execution_count": 22,
     "metadata": {},
     "output_type": "execute_result"
    },
    {
     "data": {
      "image/png": "[encoded data removed]",
      "text/plain": [
       "<Figure size 640x480 with 1 Axes>"
      ]
     },
     "metadata": {},
     "output_type": "display_data"
    }
   ],
   "source": [
    "import matplotlib.pyplot as plt\n",
    "%matplotlib inline\n",
    "vect = sme.transform(smiles)\n",
    "plt.imshow(vect[1])"
   ]
  },
  {
   "cell_type": "code",
   "execution_count": 55,
   "id": "15a62299",
   "metadata": {},
   "outputs": [
    {
     "data": {
      "text/plain": [
       "(328, 41)"
      ]
     },
     "execution_count": 55,
     "metadata": {},
     "output_type": "execute_result"
    }
   ],
   "source": [
    "vect[0].shape"
   ]
  },
  {
   "cell_type": "code",
   "execution_count": 2,
   "id": "85752f54",
   "metadata": {},
   "outputs": [],
   "source": [
    "from sklearn.model_selection import train_test_split\n",
    "import sklearn.metrics as metrica\n",
    "from torch import nn\n",
    "from torch.nn import functional as F\n",
    "from torch.utils.data import TensorDataset, DataLoader"
   ]
  },
  {
   "cell_type": "code",
   "execution_count": 27,
   "id": "e5cd899d",
   "metadata": {},
   "outputs": [],
   "source": [
    "X = vect\n",
    "y = data['Toxicity Value']"
   ]
  },
  {
   "cell_type": "code",
   "execution_count": 56,
   "id": "fcd93bab",
   "metadata": {},
   "outputs": [],
   "source": [
    "batch_size = 128\n",
    "\n",
    "X = np.array(X)\n",
    "y = np.array(y)\n",
    "\n",
    "X_train, X_test, y_train, y_test = train_test_split(X, y, test_size=0.3, random_state=42)\n",
    "\n",
    "X_train_t = torch.from_numpy(X_train)\n",
    "y_train_t = torch.from_numpy(y_train)\n",
    "X_test_t = torch.from_numpy(X_test)\n",
    "y_test_t = torch.from_numpy(y_test)\n",
    "\n",
    "\n",
    "X_train_t = X_train_t.to(torch.float32)\n",
    "y_train_t = y_train_t.to(torch.float32)\n",
    "X_test_t = X_test_t.to(torch.float32)\n",
    "y_test_t = y_test_t.to(torch.float32)\n",
    "\n",
    "\n",
    "train_dataset = TensorDataset(X_train_t, y_train_t)\n",
    "test_dataset = TensorDataset(X_test_t, y_test_t)\n",
    "\n",
    "train_dataloader = DataLoader(train_dataset, batch_size=batch_size, drop_last=True)\n",
    "test_dataloader = DataLoader(test_dataset, batch_size=batch_size, drop_last=True)\n",
    "\n",
    "\n",
    "loaders = {\"train\": train_dataloader, \"test\" : test_dataloader}"
   ]
  },
  {
   "cell_type": "code",
   "execution_count": 91,
   "id": "64c7c1ca",
   "metadata": {},
   "outputs": [],
   "source": [
    "improve = nn.Dropout1d\n",
    "activation = nn.ReLU\n",
    "\n",
    "class CNN(nn.Module):\n",
    "    def __init__(self, out_features):\n",
    "        super().__init__()\n",
    "        self.conv = nn.Sequential(\n",
    "            nn.Conv2d(1, 6, 3, padding=1),\n",
    "            nn.BatchNorm2d(6),\n",
    "            nn.MaxPool2d(2, 2),\n",
    "            nn.Conv2d(6, 12, 3, padding=1),\n",
    "            nn.BatchNorm2d(12),\n",
    "            nn.MaxPool2d(2, 2),\n",
    "            nn.Conv2d(12, 16, 3, padding=1),\n",
    "            nn.BatchNorm2d(16),\n",
    "            nn.MaxPool2d(2, 2),    \n",
    "        )\n",
    "        \n",
    "        self.mlp = nn.Sequential(\n",
    "            nn.Linear(3280, 1024),\n",
    "            activation(),\n",
    "            #improve(0.2),\n",
    "            nn.Linear(1024, 512),\n",
    "            activation(),\n",
    "            #improve(0.3),\n",
    "            nn.Linear(512, 128),\n",
    "            activation(),\n",
    "            nn.Linear(128, 32),\n",
    "            activation(),\n",
    "            nn.Linear(32, out_features),\n",
    "        )\n",
    "        \n",
    "    def forward(self, x):\n",
    "        x = x.view(batch_size, 1, 328, 41)\n",
    "        x = self.conv(x)\n",
    "        x = torch.flatten(x, 1)\n",
    "        x = self.mlp(x)\n",
    "        return x"
   ]
  },
  {
   "cell_type": "code",
   "execution_count": 92,
   "id": "e9bbd226",
   "metadata": {},
   "outputs": [],
   "source": [
    "def training_loop(model, criterion, optimizer, loaders, max_epochs, shape=3, scheduler=None, save=(-1, None), device='cpu'):\n",
    "    \n",
    "    accuracy = {\"train\": [], \"test\" : []}\n",
    "    loss_history = {\"train\": [], \"test\" : []}\n",
    "    mean_loss = {\"train\": [], \"test\" : []}\n",
    "    ROC_AUC = {\"train\": [], \"test\" : []}\n",
    "    mean_ROC_AUC = {\"train\": [], \"test\" : []}\n",
    "    mean_acc = {\"train\": [], \"test\" : []}\n",
    "\n",
    "    for epoch in trange(max_epochs):\n",
    "        for k, dataloader in loaders.items():\n",
    "            epoch_correct = 0\n",
    "            epoch_all = 0\n",
    "            for x_batch, y_batch in dataloader:\n",
    "                x_batch = x_batch.to(device)\n",
    "                y_batch = y_batch.to(device)\n",
    "                if k == \"train\":\n",
    "                    model.train()\n",
    "                    optimizer.zero_grad()\n",
    "                    outp = model(x_batch)\n",
    "                else:\n",
    "                    model.eval()\n",
    "                    with torch.no_grad():\n",
    "                        outp = model(x_batch)\n",
    "                        \n",
    "                y_pred = torch.sigmoid(outp)\n",
    "                preds = torch.round(y_pred)\n",
    "                correct = 0\n",
    "\n",
    "\n",
    "                for i in range(len(preds)):\n",
    "\n",
    "                    if torch.argmax(preds[i]) == y_batch[i]:\n",
    "                        correct += 1\n",
    "                all =  len(preds)\n",
    "                epoch_correct += correct\n",
    "                epoch_all += all\n",
    "                loss = criterion(y_pred, y_batch.view(-1, 1))\n",
    "                loss_history[k].append(loss.to('cpu').detach().numpy())\n",
    "\n",
    "                auc = metrica.roc_auc_score(y_batch.cpu().detach(), y_pred.cpu().detach())\n",
    "                acc = metrica.accuracy_score(y_batch.cpu().detach(), preds.cpu().detach())\n",
    "\n",
    "                    \n",
    "                #auc_score = metrica.roc_auc_score(y_batch.cpu().detach(), y_pred.cpu().detach(), multi_class='ovr')\n",
    "                ROC_AUC[k].append(auc)\n",
    "                accuracy[k].append(acc)\n",
    "                #ROC_AUC[k].append(metrica.roc_auc_score(y_batch.to('cpu').detach().numpy(), y_pred.to('cpu').detach().numpy(), multi_class='ovo'))\n",
    "                \n",
    "                if k == \"train\":\n",
    "                    loss.backward()\n",
    "                    optimizer.step()\n",
    "    \n",
    "            \n",
    "            #print(f\"Loader: {k}. Accuracy: {epoch_correct/epoch_all}\")\n",
    "            \n",
    "            \n",
    "            epoch_loss = np.array(loss_history[k])\n",
    "            epoch_RA = np.array(ROC_AUC[k])\n",
    "            epoch_acc = np.array(accuracy[k])\n",
    "            loss_history[k] = []\n",
    "            ROC_AUC[k] = []\n",
    "            accuracy[k] = []\n",
    "            \n",
    "            mean_loss[k].append(np.mean(epoch_loss))\n",
    "            mean_ROC_AUC[k].append(epoch_RA.mean())\n",
    "            mean_acc[k].append(epoch_acc.mean())\n",
    "            \n",
    "            scheduler.step()\n",
    "\n",
    "   \n",
    "\n",
    "        av_roc = round(np.mean(mean_ROC_AUC['test']), 5)\n",
    "        if save[0] != -1 and epoch % save[0] == 0 and epoch > 0 or epoch == max_epochs - 1:\n",
    "            with open(f'{save[1]}_epoch_{epoch}_auroc_{av_roc}.pt', 'wb+') as f:\n",
    "                torch.save(model.state_dict(), f)\n",
    "                \n",
    "    metrics = {\n",
    "        'Accuracy' : mean_acc,\n",
    "        'ROC_AUC' : mean_ROC_AUC,\n",
    "        'Loss' : mean_loss\n",
    "    }     \n",
    "    \n",
    "    return metrics"
   ]
  },
  {
   "cell_type": "code",
   "execution_count": 93,
   "id": "8d4d1657",
   "metadata": {},
   "outputs": [
    {
     "data": {
      "application/vnd.jupyter.widget-view+json": {
       "model_id": "0160f6c6bb6e41888ea0c9e764ff39fc",
       "version_major": 2,
       "version_minor": 0
      },
      "text/plain": [
       "  0%|          | 0/20 [00:00<?, ?it/s]"
      ]
     },
     "metadata": {},
     "output_type": "display_data"
    }
   ],
   "source": [
    "from torch.optim import lr_scheduler\n",
    "from tqdm.autonotebook import trange\n",
    "\n",
    "device = 'cpu'\n",
    "\n",
    "classifier = CNN(1)\n",
    "criterion = nn.BCELoss() \n",
    "\n",
    "optimizer = torch.optim.Adam(classifier.parameters(), lr=0.003)\n",
    "scheduler = lr_scheduler.StepLR(optimizer, step_size=5, gamma=0.9)\n",
    "\n",
    "\n",
    "max_epochs = 20\n",
    "\n",
    "\n",
    "metrics_snt = training_loop(classifier, criterion, optimizer, loaders, \n",
    "                            max_epochs, shape=3, scheduler=scheduler)"
   ]
  },
  {
   "cell_type": "code",
   "execution_count": 95,
   "id": "faf1a209",
   "metadata": {},
   "outputs": [
    {
     "data": {
      "text/plain": [
       "[<matplotlib.lines.Line2D at 0x1cd8b1ca160>]"
      ]
     },
     "execution_count": 95,
     "metadata": {},
     "output_type": "execute_result"
    },
    {
     "data": {
      "image/png": "[encoded data removed]",
      "text/plain": [
       "<Figure size 640x480 with 1 Axes>"
      ]
     },
     "metadata": {},
     "output_type": "display_data"
    }
   ],
   "source": [
    "plt.plot(metrics_snt['Loss']['test'])"
   ]
  },
  {
   "cell_type": "code",
   "execution_count": 2,
   "id": "72c2d817",
   "metadata": {},
   "outputs": [
    {
     "name": "stdout",
     "output_type": "stream",
     "text": [
      "Pytorch CUDA Version is  None\n"
     ]
    }
   ],
   "source": [
    "print('Pytorch CUDA Version is ', torch.version.cuda)"
   ]
  },
  {
   "cell_type": "code",
   "execution_count": 20,
   "id": "245e26be",
   "metadata": {},
   "outputs": [
    {
     "name": "stdout",
     "output_type": "stream",
     "text": [
      "Looking in indexes: https://pypi.org/simple, https://pypi.ngc.nvidia.com\n",
      "Collecting nvidia-cuda-nvcc-cu11\n",
      "  Downloading https://developer.download.nvidia.com/compute/redist/nvidia-cuda-nvcc-cu11/nvidia-cuda-nvcc-cu11-2022.5.4.tar.gz (16 kB)\n",
      "  Preparing metadata (setup.py): started\n",
      "  Preparing metadata (setup.py): finished with status 'done'\n",
      "Collecting nvidia-cuda-nvcc-cu117 (from nvidia-cuda-nvcc-cu11)\n",
      "  Downloading https://developer.download.nvidia.com/compute/redist/nvidia-cuda-nvcc-cu117/nvidia_cuda_nvcc_cu117-11.7.64-py3-none-win_amd64.whl (13.8 MB)\n",
      "     -------------------------------------- 13.8/13.8 MB 956.2 kB/s eta 0:00:00\n",
      "Requirement already satisfied: setuptools in c:\\users\\gurpa\\appdata\\local\\programs\\python\\python311\\lib\\site-packages (from nvidia-cuda-nvcc-cu117->nvidia-cuda-nvcc-cu11) (67.7.2)\n",
      "Requirement already satisfied: wheel in c:\\users\\gurpa\\appdata\\local\\programs\\python\\python311\\lib\\site-packages (from nvidia-cuda-nvcc-cu117->nvidia-cuda-nvcc-cu11) (0.40.0)\n",
      "Building wheels for collected packages: nvidia-cuda-nvcc-cu11\n",
      "  Building wheel for nvidia-cuda-nvcc-cu11 (setup.py): started\n",
      "  Building wheel for nvidia-cuda-nvcc-cu11 (setup.py): finished with status 'done'\n",
      "  Created wheel for nvidia-cuda-nvcc-cu11: filename=nvidia_cuda_nvcc_cu11-2022.5.4-py3-none-any.whl size=15630 sha256=6f3d00fc712ae32d127e39f31c171172451f6abf4f70a6535bde9347c2a610d4\n",
      "  Stored in directory: C:\\Users\\gurpa\\AppData\\Local\\Temp\\pip-ephem-wheel-cache-llkygdwf\\wheels\\14\\f2\\fb\\d97e97fde9400f644f6a1cc4460438e0f5c98f5089169f60a0\n",
      "Successfully built nvidia-cuda-nvcc-cu11\n",
      "Installing collected packages: nvidia-cuda-nvcc-cu117, nvidia-cuda-nvcc-cu11\n",
      "Successfully installed nvidia-cuda-nvcc-cu11-2022.5.4 nvidia-cuda-nvcc-cu117-11.7.64\n"
     ]
    }
   ],
   "source": [
    "!py -m pip install nvidia-cuda-nvcc-cu11"
   ]
  },
  {
   "cell_type": "code",
   "execution_count": 3,
   "id": "e38fe8b4",
   "metadata": {},
   "outputs": [
    {
     "data": {
      "text/plain": [
       "False"
      ]
     },
     "execution_count": 3,
     "metadata": {},
     "output_type": "execute_result"
    }
   ],
   "source": [
    "torch.cuda.is_available()"
   ]
  },
  {
   "cell_type": "code",
   "execution_count": 4,
   "id": "40eaf45f",
   "metadata": {},
   "outputs": [
    {
     "name": "stdout",
     "output_type": "stream",
     "text": [
      "CUDNN version: None\n"
     ]
    }
   ],
   "source": [
    "print(f'CUDNN version: {torch.backends.cudnn.version()}')"
   ]
  },
  {
   "cell_type": "code",
   "execution_count": 18,
   "id": "b30efe1e",
   "metadata": {},
   "outputs": [
    {
     "name": "stdout",
     "output_type": "stream",
     "text": [
      "Looking in indexes: https://pypi.org/simple, https://pypi.ngc.nvidia.com\n",
      "Collecting nvidia-pyindex\n",
      "  Downloading nvidia-pyindex-1.0.9.tar.gz (10 kB)\n",
      "  Preparing metadata (setup.py): started\n",
      "  Preparing metadata (setup.py): finished with status 'done'\n",
      "Building wheels for collected packages: nvidia-pyindex\n",
      "  Building wheel for nvidia-pyindex (setup.py): started\n",
      "  Building wheel for nvidia-pyindex (setup.py): finished with status 'done'\n",
      "  Created wheel for nvidia-pyindex: filename=nvidia_pyindex-1.0.9-py3-none-any.whl size=8419 sha256=d02e15f9ae9386cc7cb5a440f7d68ac9fb26a7f9b4819dfc9595f148ee8ae3c2\n",
      "  Stored in directory: C:\\Users\\gurpa\\AppData\\Local\\Temp\\pip-ephem-wheel-cache-5q_e20py\\wheels\\39\\63\\71\\c50214b560fa8c319598c2de3c1616f6d68e1d2c7f17a5e82d\n",
      "Successfully built nvidia-pyindex\n",
      "Installing collected packages: nvidia-pyindex\n",
      "Successfully installed nvidia-pyindex-1.0.9\n"
     ]
    }
   ],
   "source": [
    "!pip install nvidia-pyindex"
   ]
  },
  {
   "cell_type": "code",
   "execution_count": 4,
   "id": "19bde02f",
   "metadata": {},
   "outputs": [
    {
     "data": {
      "text/plain": [
       "False"
      ]
     },
     "execution_count": 4,
     "metadata": {},
     "output_type": "execute_result"
    }
   ],
   "source": [
    "torch.cuda.is_available()"
   ]
  },
  {
   "cell_type": "code",
   "execution_count": null,
   "id": "9cbc6733",
   "metadata": {},
   "outputs": [],
   "source": []
  }
 ],
 "metadata": {
  "kernelspec": {
   "display_name": "Python 3 (ipykernel)",
   "language": "python",
   "name": "python3"
  },
  "language_info": {
   "codemirror_mode": {
    "name": "ipython",
    "version": 3
   },
   "file_extension": ".py",
   "mimetype": "text/x-python",
   "name": "python",
   "nbconvert_exporter": "python",
   "pygments_lexer": "ipython3",
   "version": "3.9.13"
  }
 },
 "nbformat": 4,
 "nbformat_minor": 5
}
